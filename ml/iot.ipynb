{
 "cells": [
  {
   "cell_type": "markdown",
   "metadata": {},
   "source": [
    "### Loading & Importing Libraries"
   ]
  },
  {
   "cell_type": "code",
   "execution_count": 15,
   "metadata": {},
   "outputs": [],
   "source": [
    "import pandas as pd\n",
    "import matplotlib.pyplot as plt\n",
    "import matplotlib.pyplot as plt\n",
    "import seaborn as sns"
   ]
  },
  {
   "cell_type": "markdown",
   "metadata": {},
   "source": [
    "### Loading the dataset "
   ]
  },
  {
   "cell_type": "code",
   "execution_count": 16,
   "metadata": {},
   "outputs": [
    {
     "data": {
      "text/html": [
       "<div>\n",
       "<style scoped>\n",
       "    .dataframe tbody tr th:only-of-type {\n",
       "        vertical-align: middle;\n",
       "    }\n",
       "\n",
       "    .dataframe tbody tr th {\n",
       "        vertical-align: top;\n",
       "    }\n",
       "\n",
       "    .dataframe thead th {\n",
       "        text-align: right;\n",
       "    }\n",
       "</style>\n",
       "<table border=\"1\" class=\"dataframe\">\n",
       "  <thead>\n",
       "    <tr style=\"text-align: right;\">\n",
       "      <th></th>\n",
       "      <th>timeOfDay</th>\n",
       "      <th>location</th>\n",
       "      <th>temperature</th>\n",
       "      <th>humidity</th>\n",
       "      <th>lightIntensity</th>\n",
       "    </tr>\n",
       "  </thead>\n",
       "  <tbody>\n",
       "    <tr>\n",
       "      <th>0</th>\n",
       "      <td>11:15</td>\n",
       "      <td>on_campus</td>\n",
       "      <td>41.433333</td>\n",
       "      <td>44.805882</td>\n",
       "      <td>1198</td>\n",
       "    </tr>\n",
       "    <tr>\n",
       "      <th>1</th>\n",
       "      <td>11:16</td>\n",
       "      <td>on_campus</td>\n",
       "      <td>41.611111</td>\n",
       "      <td>44.800000</td>\n",
       "      <td>1198</td>\n",
       "    </tr>\n",
       "    <tr>\n",
       "      <th>2</th>\n",
       "      <td>11:17</td>\n",
       "      <td>on_campus</td>\n",
       "      <td>41.642857</td>\n",
       "      <td>44.857143</td>\n",
       "      <td>1198</td>\n",
       "    </tr>\n",
       "    <tr>\n",
       "      <th>3</th>\n",
       "      <td>11:18</td>\n",
       "      <td>on_campus</td>\n",
       "      <td>41.720000</td>\n",
       "      <td>44.666667</td>\n",
       "      <td>1198</td>\n",
       "    </tr>\n",
       "    <tr>\n",
       "      <th>4</th>\n",
       "      <td>11:19</td>\n",
       "      <td>on_campus</td>\n",
       "      <td>41.866667</td>\n",
       "      <td>44.394118</td>\n",
       "      <td>1198</td>\n",
       "    </tr>\n",
       "  </tbody>\n",
       "</table>\n",
       "</div>"
      ],
      "text/plain": [
       "  timeOfDay   location  temperature   humidity  lightIntensity\n",
       "0     11:15  on_campus    41.433333  44.805882            1198\n",
       "1     11:16  on_campus    41.611111  44.800000            1198\n",
       "2     11:17  on_campus    41.642857  44.857143            1198\n",
       "3     11:18  on_campus    41.720000  44.666667            1198\n",
       "4     11:19  on_campus    41.866667  44.394118            1198"
      ]
     },
     "execution_count": 16,
     "metadata": {},
     "output_type": "execute_result"
    }
   ],
   "source": [
    "df = pd.read_json(\"mlData.json\")\n",
    "\n",
    "df.head()"
   ]
  },
  {
   "cell_type": "markdown",
   "metadata": {},
   "source": [
    "### Data Cleaning & Preparation"
   ]
  },
  {
   "cell_type": "code",
   "execution_count": 17,
   "metadata": {},
   "outputs": [],
   "source": [
    "df.dropna(inplace=True)"
   ]
  },
  {
   "cell_type": "markdown",
   "metadata": {},
   "source": [
    "Visualizing Data Xtics"
   ]
  },
  {
   "cell_type": "code",
   "execution_count": 18,
   "metadata": {},
   "outputs": [
    {
     "name": "stdout",
     "output_type": "stream",
     "text": [
      "<class 'pandas.core.frame.DataFrame'>\n",
      "RangeIndex: 42 entries, 0 to 41\n",
      "Data columns (total 5 columns):\n",
      " #   Column          Non-Null Count  Dtype  \n",
      "---  ------          --------------  -----  \n",
      " 0   timeOfDay       42 non-null     object \n",
      " 1   location        42 non-null     object \n",
      " 2   temperature     42 non-null     float64\n",
      " 3   humidity        42 non-null     float64\n",
      " 4   lightIntensity  42 non-null     int64  \n",
      "dtypes: float64(2), int64(1), object(2)\n",
      "memory usage: 1.8+ KB\n"
     ]
    }
   ],
   "source": [
    "df.info()"
   ]
  },
  {
   "cell_type": "code",
   "execution_count": 19,
   "metadata": {},
   "outputs": [],
   "source": [
    "df_original = df.copy()"
   ]
  },
  {
   "cell_type": "code",
   "execution_count": 20,
   "metadata": {},
   "outputs": [
    {
     "data": {
      "text/html": [
       "<div>\n",
       "<style scoped>\n",
       "    .dataframe tbody tr th:only-of-type {\n",
       "        vertical-align: middle;\n",
       "    }\n",
       "\n",
       "    .dataframe tbody tr th {\n",
       "        vertical-align: top;\n",
       "    }\n",
       "\n",
       "    .dataframe thead th {\n",
       "        text-align: right;\n",
       "    }\n",
       "</style>\n",
       "<table border=\"1\" class=\"dataframe\">\n",
       "  <thead>\n",
       "    <tr style=\"text-align: right;\">\n",
       "      <th></th>\n",
       "      <th>timeOfDay</th>\n",
       "      <th>location</th>\n",
       "      <th>temperature</th>\n",
       "      <th>humidity</th>\n",
       "      <th>lightIntensity</th>\n",
       "    </tr>\n",
       "  </thead>\n",
       "  <tbody>\n",
       "    <tr>\n",
       "      <th>0</th>\n",
       "      <td>0</td>\n",
       "      <td>0</td>\n",
       "      <td>41.433333</td>\n",
       "      <td>44.805882</td>\n",
       "      <td>1198</td>\n",
       "    </tr>\n",
       "    <tr>\n",
       "      <th>1</th>\n",
       "      <td>1</td>\n",
       "      <td>0</td>\n",
       "      <td>41.611111</td>\n",
       "      <td>44.800000</td>\n",
       "      <td>1198</td>\n",
       "    </tr>\n",
       "    <tr>\n",
       "      <th>2</th>\n",
       "      <td>2</td>\n",
       "      <td>0</td>\n",
       "      <td>41.642857</td>\n",
       "      <td>44.857143</td>\n",
       "      <td>1198</td>\n",
       "    </tr>\n",
       "    <tr>\n",
       "      <th>3</th>\n",
       "      <td>3</td>\n",
       "      <td>0</td>\n",
       "      <td>41.720000</td>\n",
       "      <td>44.666667</td>\n",
       "      <td>1198</td>\n",
       "    </tr>\n",
       "    <tr>\n",
       "      <th>4</th>\n",
       "      <td>4</td>\n",
       "      <td>0</td>\n",
       "      <td>41.866667</td>\n",
       "      <td>44.394118</td>\n",
       "      <td>1198</td>\n",
       "    </tr>\n",
       "  </tbody>\n",
       "</table>\n",
       "</div>"
      ],
      "text/plain": [
       "   timeOfDay  location  temperature   humidity  lightIntensity\n",
       "0          0         0    41.433333  44.805882            1198\n",
       "1          1         0    41.611111  44.800000            1198\n",
       "2          2         0    41.642857  44.857143            1198\n",
       "3          3         0    41.720000  44.666667            1198\n",
       "4          4         0    41.866667  44.394118            1198"
      ]
     },
     "execution_count": 20,
     "metadata": {},
     "output_type": "execute_result"
    }
   ],
   "source": [
    "from sklearn.preprocessing import LabelEncoder\n",
    "\n",
    "# Create a label encoder object\n",
    "le = LabelEncoder()\n",
    "\n",
    "# Fit and transform the 'timeOfDay' and 'location' columns\n",
    "df['timeOfDay'] = le.fit_transform(df['timeOfDay'])\n",
    "df['location'] = le.fit_transform(df['location'])\n",
    "\n",
    "# Visualize df\n",
    "df.head()"
   ]
  },
  {
   "cell_type": "code",
   "execution_count": 21,
   "metadata": {},
   "outputs": [
    {
     "data": {
      "text/html": [
       "<div>\n",
       "<style scoped>\n",
       "    .dataframe tbody tr th:only-of-type {\n",
       "        vertical-align: middle;\n",
       "    }\n",
       "\n",
       "    .dataframe tbody tr th {\n",
       "        vertical-align: top;\n",
       "    }\n",
       "\n",
       "    .dataframe thead th {\n",
       "        text-align: right;\n",
       "    }\n",
       "</style>\n",
       "<table border=\"1\" class=\"dataframe\">\n",
       "  <thead>\n",
       "    <tr style=\"text-align: right;\">\n",
       "      <th></th>\n",
       "      <th>timeOfDay</th>\n",
       "      <th>location</th>\n",
       "      <th>temperature</th>\n",
       "      <th>humidity</th>\n",
       "      <th>lightIntensity</th>\n",
       "    </tr>\n",
       "  </thead>\n",
       "  <tbody>\n",
       "    <tr>\n",
       "      <th>timeOfDay</th>\n",
       "      <td>1.000000</td>\n",
       "      <td>NaN</td>\n",
       "      <td>0.800803</td>\n",
       "      <td>0.599090</td>\n",
       "      <td>NaN</td>\n",
       "    </tr>\n",
       "    <tr>\n",
       "      <th>location</th>\n",
       "      <td>NaN</td>\n",
       "      <td>NaN</td>\n",
       "      <td>NaN</td>\n",
       "      <td>NaN</td>\n",
       "      <td>NaN</td>\n",
       "    </tr>\n",
       "    <tr>\n",
       "      <th>temperature</th>\n",
       "      <td>0.800803</td>\n",
       "      <td>NaN</td>\n",
       "      <td>1.000000</td>\n",
       "      <td>0.930169</td>\n",
       "      <td>NaN</td>\n",
       "    </tr>\n",
       "    <tr>\n",
       "      <th>humidity</th>\n",
       "      <td>0.599090</td>\n",
       "      <td>NaN</td>\n",
       "      <td>0.930169</td>\n",
       "      <td>1.000000</td>\n",
       "      <td>NaN</td>\n",
       "    </tr>\n",
       "    <tr>\n",
       "      <th>lightIntensity</th>\n",
       "      <td>NaN</td>\n",
       "      <td>NaN</td>\n",
       "      <td>NaN</td>\n",
       "      <td>NaN</td>\n",
       "      <td>NaN</td>\n",
       "    </tr>\n",
       "  </tbody>\n",
       "</table>\n",
       "</div>"
      ],
      "text/plain": [
       "                timeOfDay  location  temperature  humidity  lightIntensity\n",
       "timeOfDay        1.000000       NaN     0.800803  0.599090             NaN\n",
       "location              NaN       NaN          NaN       NaN             NaN\n",
       "temperature      0.800803       NaN     1.000000  0.930169             NaN\n",
       "humidity         0.599090       NaN     0.930169  1.000000             NaN\n",
       "lightIntensity        NaN       NaN          NaN       NaN             NaN"
      ]
     },
     "execution_count": 21,
     "metadata": {},
     "output_type": "execute_result"
    }
   ],
   "source": [
    "df.corr()"
   ]
  },
  {
   "cell_type": "markdown",
   "metadata": {},
   "source": [
    "Grab Features and Labels "
   ]
  },
  {
   "cell_type": "code",
   "execution_count": 22,
   "metadata": {},
   "outputs": [
    {
     "data": {
      "text/plain": [
       "(    timeOfDay  location   humidity  lightIntensity\n",
       " 0           0         0  44.805882            1198\n",
       " 1           1         0  44.800000            1198\n",
       " 2           2         0  44.857143            1198\n",
       " 3           3         0  44.666667            1198\n",
       " 4           4         0  44.394118            1198\n",
       " 5           5         0  44.675000            1198\n",
       " 6           6         0  44.633333            1198\n",
       " 7           7         0  44.611765            1198\n",
       " 8           8         0  44.516667            1198\n",
       " 9           9         0  44.441176            1198\n",
       " 10         10         0  44.376923            1198\n",
       " 11         11         0  44.092308            1198\n",
       " 12         12         0  43.955556            1198\n",
       " 13         13         0  43.775000            1198\n",
       " 14         14         0  43.770588            1198\n",
       " 15         15         0  43.515385            1198\n",
       " 16         16         0  49.266667            1198\n",
       " 17         17         0  44.486667            1198\n",
       " 18         18         0  40.612500            1198\n",
       " 19         19         0  38.656250            1198\n",
       " 20         20         0  37.368750            1198\n",
       " 21         21         0  36.381250            1198\n",
       " 22         22         0  35.717647            1198\n",
       " 23         23         0  35.138462            1198\n",
       " 24         24         0  35.005882            1198\n",
       " 25         25         0  34.535714            1198\n",
       " 26         26         0  34.460000            1198\n",
       " 27         27         0  34.500000            1198\n",
       " 28         28         0  61.350000            1198\n",
       " 29         29         0  61.417647            1198\n",
       " 30         30         0  61.266667            1198\n",
       " 31         31         0  61.150000            1198\n",
       " 32         32         0  61.058824            1198\n",
       " 33         33         0  61.033333            1198\n",
       " 34         34         0  61.050000            1198\n",
       " 35         35         0  60.929412            1198\n",
       " 36         36         0  60.984211            1198\n",
       " 37         37         0  61.016667            1198\n",
       " 38         38         0  60.844444            1198\n",
       " 39         39         0  60.621053            1198\n",
       " 40         40         0  60.729412            1198\n",
       " 41         41         0  60.546154            1198,\n",
       " 0     41.433333\n",
       " 1     41.611111\n",
       " 2     41.642857\n",
       " 3     41.720000\n",
       " 4     41.866667\n",
       " 5     41.666667\n",
       " 6     41.742857\n",
       " 7     41.733333\n",
       " 8     41.820000\n",
       " 9     41.877778\n",
       " 10    41.900000\n",
       " 11    41.985714\n",
       " 12    41.930000\n",
       " 13    41.962500\n",
       " 14    41.888889\n",
       " 15    41.942857\n",
       " 16    33.333333\n",
       " 17    36.125000\n",
       " 18    37.955556\n",
       " 19    38.955556\n",
       " 20    39.542857\n",
       " 21    40.055556\n",
       " 22    40.411111\n",
       " 23    40.675000\n",
       " 24    40.788889\n",
       " 25    40.800000\n",
       " 26    40.837500\n",
       " 27    40.800000\n",
       " 28    89.485714\n",
       " 29    89.430000\n",
       " 30    89.400000\n",
       " 31    89.460000\n",
       " 32    89.455556\n",
       " 33    89.433333\n",
       " 34    89.422222\n",
       " 35    89.400000\n",
       " 36    89.400000\n",
       " 37    89.390000\n",
       " 38    89.350000\n",
       " 39    89.344444\n",
       " 40    89.380000\n",
       " 41    89.387500\n",
       " Name: temperature, dtype: float64)"
      ]
     },
     "execution_count": 22,
     "metadata": {},
     "output_type": "execute_result"
    }
   ],
   "source": [
    "# Features\n",
    "X = df.drop('temperature', axis=1)\n",
    "\n",
    "# Labels\n",
    "y = df['temperature']\n",
    "\n",
    "X, y"
   ]
  },
  {
   "cell_type": "markdown",
   "metadata": {},
   "source": [
    "### Train/Test Split"
   ]
  },
  {
   "cell_type": "code",
   "execution_count": 23,
   "metadata": {},
   "outputs": [],
   "source": [
    "import sklearn as sk\n",
    "from sklearn.model_selection import train_test_split\n",
    "\n",
    "# Splitting dataset into training set & test set\n",
    "X_train, X_test, y_train, y_test = train_test_split(X, y, test_size = 0.2, random_state = 0) #20% test size, random state gurantees same result across runs"
   ]
  },
  {
   "cell_type": "markdown",
   "metadata": {},
   "source": [
    "### Model Training"
   ]
  },
  {
   "cell_type": "code",
   "execution_count": 24,
   "metadata": {},
   "outputs": [],
   "source": [
    "from sklearn.linear_model import LinearRegression\n",
    "#Fitting Multiple Linear Regression to the training set\n",
    "\n",
    "regr = LinearRegression()\n",
    "model =regr.fit(X_train, y_train)"
   ]
  },
  {
   "cell_type": "code",
   "execution_count": 25,
   "metadata": {},
   "outputs": [
    {
     "name": "stdout",
     "output_type": "stream",
     "text": [
      "Mean Squared Error (MSE):  9.171870724746269\n"
     ]
    }
   ],
   "source": [
    "#evaluate\n",
    "from sklearn.metrics import mean_squared_error\n",
    "# Evaluate our model using MSE criterion\n",
    "y_pred = regr.predict(X_test)\n",
    "mse=mean_squared_error(y_test, y_pred)\n",
    "print(\"Mean Squared Error (MSE): \", mse)\n",
    "#the smaller the better"
   ]
  },
  {
   "cell_type": "markdown",
   "metadata": {},
   "source": [
    "### Model Testing"
   ]
  },
  {
   "cell_type": "code",
   "execution_count": 26,
   "metadata": {},
   "outputs": [
    {
     "name": "stdout",
     "output_type": "stream",
     "text": [
      "mean absolute percentage error=  4.29\n"
     ]
    }
   ],
   "source": [
    "\n",
    "#mean absolute percentage error\n",
    "# measure of prediction accuracy of a forecasting\n",
    "#commonly used as a loss function for regression problems\n",
    "#the smaller the percentage the better\n",
    "#see https://en.wikipedia.org/wiki/Mean_absolute_percentage_error\n",
    "\n",
    "import numpy as np    #need numpy methods\n",
    "\n",
    "actual, pred = np.array(y_test), np.array(y_pred)   #converts df to array using numpy methods\n",
    "mape= np.mean(np.abs((actual - pred) / actual)) * 100\n",
    "print(f\"mean absolute percentage error= {mape: .2f}\")"
   ]
  },
  {
   "cell_type": "code",
   "execution_count": 27,
   "metadata": {},
   "outputs": [
    {
     "name": "stdout",
     "output_type": "stream",
     "text": [
      "Mean absolute error: 2.43\n",
      "Mean squared error: 9.17\n",
      "Root mean squared error: 3.03\n"
     ]
    }
   ],
   "source": [
    "#other measures: rmse, r-squre, mae\n",
    "from sklearn.metrics import mean_absolute_error\n",
    "from sklearn.metrics import mean_squared_error\n",
    "\n",
    "mae = mean_absolute_error(y_test, y_pred)\n",
    "mse = mean_squared_error(y_test, y_pred)\n",
    "rmse = np.sqrt(mse)\n",
    "\n",
    "#alt notation\n",
    "#print('Mean absolute error:', end=\"\")\n",
    "#print( \"%0.2f\" % mae)\n",
    "\n",
    "print(f'Mean absolute error: {mae:.2f}')    #abs deviation of predicted value from true value\n",
    "print(f'Mean squared error: {mse:.2f}')\n",
    "print(f'Root mean squared error: {rmse:.2f}')"
   ]
  },
  {
   "cell_type": "markdown",
   "metadata": {},
   "source": [
    "### Making Prediction Using Model"
   ]
  },
  {
   "cell_type": "code",
   "execution_count": 28,
   "metadata": {},
   "outputs": [
    {
     "name": "stdout",
     "output_type": "stream",
     "text": [
      "   timeOfDay   location   humidity  lightIntensity     Actual  Predicted\n",
      "30     12:14  on_campus  61.266667            1198  89.400000  84.950128\n",
      "36     12:20  on_campus  60.984211            1198  89.400000  88.748603\n",
      "27      12:0  on_campus  34.500000            1198  40.800000  38.744640\n",
      "4      11:19  on_campus  44.394118            1198  41.866667  38.692523\n",
      "10     11:25  on_campus  44.376923            1198  41.900000  42.927775\n"
     ]
    }
   ],
   "source": [
    "# Making predictions on the test set\n",
    "y_pred = model.predict(X_test)\n",
    "\n",
    "# Convert predictions to a DataFrame\n",
    "y_pred_df = pd.DataFrame(y_pred, columns=['Predicted'], index=X_test.index)\n",
    "\n",
    "# Concatenate the actual and predicted values\n",
    "comparison_df = pd.concat([X_test, y_test.rename('Actual'), y_pred_df], axis=1)\n",
    "\n",
    "\n",
    "# Create a label encoder object\n",
    "le_timeOfDay = LabelEncoder()\n",
    "le_location = LabelEncoder()\n",
    "\n",
    "# Fit the 'timeOfDay' and 'location' columns\n",
    "le_timeOfDay.fit(df_original['timeOfDay'])\n",
    "le_location.fit(df_original['location'])\n",
    "\n",
    "# Inverse transform the encoded 'timeOfDay' and 'location'\n",
    "comparison_df['timeOfDay'] = le_timeOfDay.inverse_transform(comparison_df['timeOfDay'])\n",
    "comparison_df['location'] = le_location.inverse_transform(comparison_df['location'])\n",
    "\n",
    "# Print the DataFrame\n",
    "print(comparison_df.head())"
   ]
  }
 ],
 "metadata": {
  "kernelspec": {
   "display_name": "d2l",
   "language": "python",
   "name": "python3"
  },
  "language_info": {
   "codemirror_mode": {
    "name": "ipython",
    "version": 3
   },
   "file_extension": ".py",
   "mimetype": "text/x-python",
   "name": "python",
   "nbconvert_exporter": "python",
   "pygments_lexer": "ipython3",
   "version": "3.9.18"
  }
 },
 "nbformat": 4,
 "nbformat_minor": 2
}
